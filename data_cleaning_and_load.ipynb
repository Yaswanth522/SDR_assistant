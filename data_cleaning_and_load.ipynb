{
 "cells": [
  {
   "cell_type": "code",
   "execution_count": 2,
   "metadata": {},
   "outputs": [],
   "source": [
    "import pandas as pd"
   ]
  },
  {
   "cell_type": "code",
   "execution_count": 3,
   "metadata": {},
   "outputs": [
    {
     "name": "stderr",
     "output_type": "stream",
     "text": [
      "C:\\Users\\Yaswanth-J\\AppData\\Local\\Temp\\ipykernel_7728\\630183955.py:2: DtypeWarning: Columns (5,44,53,77,97) have mixed types. Specify dtype option on import or set low_memory=False.\n",
      "  contacts = pd.read_csv(\"Contacts.csv\", encoding=\"ISO-8859-1\")\n"
     ]
    }
   ],
   "source": [
    "leads = pd.read_csv(\"Leads.csv\", encoding=\"utf-8\")\n",
    "contacts = pd.read_csv(\"Contacts.csv\", encoding=\"ISO-8859-1\")\n",
    "common_cols = list(set(leads.columns) & set(contacts.columns))\n",
    "# print(common_cols)"
   ]
  },
  {
   "cell_type": "code",
   "execution_count": 4,
   "metadata": {},
   "outputs": [
    {
     "name": "stdout",
     "output_type": "stream",
     "text": [
      "['Prospect ID', 'Lead Number', 'Lead Origin', 'Lead Source', 'Do Not Email', 'Do Not Call', 'Converted', 'TotalVisits', 'Total Time Spent on Website', 'Page Views Per Visit', 'Last Activity', 'Country', 'Specialization', 'How did you hear about X Education', 'What is your current occupation', 'What matters most to you in choosing a course', 'Search', 'Magazine', 'Newspaper Article', 'X Education Forums', 'Newspaper', 'Digital Advertisement', 'Through Recommendations', 'Receive More Updates About Our Courses', 'Tags', 'Lead Quality', 'Update me on Supply Chain Content', 'Get updates on DM Content', 'Lead Profile', 'City', 'Asymmetrique Activity Index', 'Asymmetrique Profile Index', 'Asymmetrique Activity Score', 'Asymmetrique Profile Score', 'I agree to pay the amount through cheque', 'A free copy of Mastering The Interview', 'Last Notable Activity', 'Company', 'Mobile Number', 'Website', 'Time Zone', 'Job Title', 'Source Medium', 'Notes', 'Source Campaign', 'Source Content', 'Lead Stage', 'Lead Grade', 'Lead Score', 'Order Value', 'Engagement Score', 'Average Time Per Visit', 'Last Activity Date', 'Related Landing Page Id', 'First Landing Page Submission Id', 'First Landing Page Submission Date', 'Created On', 'Modified On', 'Lead Conversion Date', 'Address 1', 'Address 2', 'Cityold', 'State', 'Zip', 'Facebook URL', 'Twitter URL', 'LinkedIn URL', 'Industry', 'Work Area', 'Course Interested', 'Keyword', 'Date', 'Entrance Test', 'How did you hear about SomeSchool', 'If you are a working professional', 'If you are a working professional please mention ', 'What matters most to you in choosing an ADP', 'Age', 'Next Follow Up', 'Welearn Forums', 'Any other Please specify', 'Last Degree', 'Admission Number', 'Get updates on PGDMHBSCM', 'Chat Group', 'City New', 'Country New', 'Industry New', 'Profile Score', 'ecode', 'amt', 'eventname', 'Enquiry Type', 'Admission Date', 'Previous Stage', 'Number of Followup Calls', 'Asym how soon you can join program', 'Asymm Reason to take admission', 'Asymm Are you aware about SomeSchool College', 'Asymm Are you applying for any other form of MBA', 'Asym What is your expectation from this course', 'Asym How do you feel about taking admission', 'Asym What stopping you from joining course', 'Asym What are your concerns for taking admission', 'Asym preferences for selecting management course', 'a free copy of Mastering The Interview', 'What attracted you to consider SomeSchool ', 'you to consider SomeSchool ', 'Landing Page', 'Admission Constraints', 'Lead Type', 'Asymmetrique Scoring Model', 'Last Notable Activity Date', 'Source Referrer', 'Last Visit Date', 'Photo Url', 'Stage Rotting Flag Status', 'Stage Rotting Flag Message', 'Stage Rotting Flag Modification Date', 'Stage Rotting Flag Additional Info', 'Stage Rotting Flag Level', 'Mailing Preferences', 'Twitter Id', 'Facebook Id', 'LinkedIn Id', 'Skype Id', 'Gtalk Id', 'Google Plus Id', 'Quality Score 01', 'Groups']\n"
     ]
    }
   ],
   "source": [
    "final_leads = pd.merge(leads, contacts, on=common_cols, how=\"inner\")\n",
    "cols = list(final_leads.columns)\n",
    "# final_leads.head()\n",
    "print(cols)"
   ]
  },
  {
   "cell_type": "code",
   "execution_count": 5,
   "metadata": {},
   "outputs": [
    {
     "name": "stdout",
     "output_type": "stream",
     "text": [
      "Total leads found: 76\n"
     ]
    }
   ],
   "source": [
    "filtered_leads = final_leads[(final_leads[\"Lead Origin\"] == \"Landing Page Submission\") & (final_leads[\"Company\"].notna()) & (final_leads[\"Company\"] != \"Duplicate\") & (final_leads[\"Company\"] != \"duplicate lead\")]\n",
    "print(f\"Total leads found: {len(filtered_leads)}\")\n",
    "filtered_leads.to_csv(\"Filtered_leads.csv\", index=False)"
   ]
  },
  {
   "cell_type": "code",
   "execution_count": 6,
   "metadata": {},
   "outputs": [
    {
     "name": "stdout",
     "output_type": "stream",
     "text": [
      "CSV file converted to txt file successfully!\n"
     ]
    }
   ],
   "source": [
    "final_leads = pd.read_csv(\"Filtered_leads.csv\")\n",
    "\n",
    "# Convert each row into a formatted text entry with tab spacing\n",
    "text_file_path = \"output.txt\"\n",
    "\n",
    "with open(text_file_path, \"w\", encoding=\"utf-8\") as f:\n",
    "    for index, row in final_leads.iterrows():\n",
    "        row_text = \"\\t\".join([f\"{col}: {row[col]}\" for col in final_leads.columns])\n",
    "        f.write(row_text + \"\\n\")\n",
    "\n",
    "print(\"CSV file converted to txt file successfully!\")"
   ]
  }
 ],
 "metadata": {
  "kernelspec": {
   "display_name": "Python 3",
   "language": "python",
   "name": "python3"
  },
  "language_info": {
   "codemirror_mode": {
    "name": "ipython",
    "version": 3
   },
   "file_extension": ".py",
   "mimetype": "text/x-python",
   "name": "python",
   "nbconvert_exporter": "python",
   "pygments_lexer": "ipython3",
   "version": "3.12.3"
  }
 },
 "nbformat": 4,
 "nbformat_minor": 2
}
